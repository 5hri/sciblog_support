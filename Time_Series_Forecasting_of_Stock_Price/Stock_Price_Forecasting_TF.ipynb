{
 "cells": [
  {
   "cell_type": "code",
   "execution_count": 1,
   "metadata": {},
   "outputs": [
    {
     "name": "stderr",
     "output_type": "stream",
     "text": [
      "/Users/miguel/anaconda3/envs/py35/lib/python3.5/importlib/_bootstrap.py:222: RuntimeWarning: compiletime version 3.6 of module 'tensorflow.python.framework.fast_tensor_util' does not match runtime version 3.5\n",
      "  return f(*args, **kwds)\n"
     ]
    },
    {
     "name": "stdout",
     "output_type": "stream",
     "text": [
      "OS:  darwin\n",
      "Python:  3.5.4 |Anaconda, Inc.| (default, Nov  8 2017, 18:11:28) \n",
      "[GCC 4.2.1 Compatible Clang 4.0.1 (tags/RELEASE_401/final)]\n",
      "Tensorflow:  1.5.0\n",
      "Numpy:  1.14.1\n",
      "Number of CPU processors:  8\n"
     ]
    }
   ],
   "source": [
    "import os\n",
    "import sys\n",
    "import pandas as pd\n",
    "import numpy as np \n",
    "import math\n",
    "from sklearn.preprocessing import MinMaxScaler\n",
    "from sklearn.metrics import mean_squared_error\n",
    "from sklearn.model_selection import train_test_split\n",
    "import tensorflow as tf\n",
    "from utils import (get_number_processors, plot_series, to_1dimension, plot_series_prediction)\n",
    "\n",
    "print(\"OS: \", sys.platform)\n",
    "print(\"Python: \", sys.version)\n",
    "print(\"Tensorflow: \", tf.__version__)\n",
    "print(\"Numpy: \", np.__version__)\n",
    "print(\"Number of CPU processors: \", get_number_processors())\n",
    "\n",
    "%load_ext autoreload\n",
    "%autoreload 2"
   ]
  },
  {
   "cell_type": "markdown",
   "metadata": {},
   "source": [
    "### Data"
   ]
  },
  {
   "cell_type": "code",
   "execution_count": 2,
   "metadata": {},
   "outputs": [],
   "source": [
    "DATA = os.path.join('data', 'MSFT_2012_2017.csv')\n",
    "EPOCHS = 5\n",
    "TEST_SIZE = 0.3\n",
    "TIME_AHEAD = 1 #prediction step\n",
    "BATCH_SIZE = 1\n",
    "UNITS = 25"
   ]
  },
  {
   "cell_type": "code",
   "execution_count": 3,
   "metadata": {},
   "outputs": [
    {
     "name": "stdout",
     "output_type": "stream",
     "text": [
      "(1509, 5)\n"
     ]
    },
    {
     "data": {
      "text/html": [
       "<div>\n",
       "<style scoped>\n",
       "    .dataframe tbody tr th:only-of-type {\n",
       "        vertical-align: middle;\n",
       "    }\n",
       "\n",
       "    .dataframe tbody tr th {\n",
       "        vertical-align: top;\n",
       "    }\n",
       "\n",
       "    .dataframe thead th {\n",
       "        text-align: right;\n",
       "    }\n",
       "</style>\n",
       "<table border=\"1\" class=\"dataframe\">\n",
       "  <thead>\n",
       "    <tr style=\"text-align: right;\">\n",
       "      <th></th>\n",
       "      <th>Date</th>\n",
       "      <th>Open</th>\n",
       "      <th>High</th>\n",
       "      <th>Low</th>\n",
       "      <th>Close</th>\n",
       "    </tr>\n",
       "  </thead>\n",
       "  <tbody>\n",
       "    <tr>\n",
       "      <th>0</th>\n",
       "      <td>2012-01-03</td>\n",
       "      <td>26.549999</td>\n",
       "      <td>26.959999</td>\n",
       "      <td>26.389999</td>\n",
       "      <td>26.770000</td>\n",
       "    </tr>\n",
       "    <tr>\n",
       "      <th>1</th>\n",
       "      <td>2012-01-04</td>\n",
       "      <td>26.820000</td>\n",
       "      <td>27.469999</td>\n",
       "      <td>26.780001</td>\n",
       "      <td>27.400000</td>\n",
       "    </tr>\n",
       "    <tr>\n",
       "      <th>2</th>\n",
       "      <td>2012-01-05</td>\n",
       "      <td>27.379999</td>\n",
       "      <td>27.730000</td>\n",
       "      <td>27.290001</td>\n",
       "      <td>27.680000</td>\n",
       "    </tr>\n",
       "    <tr>\n",
       "      <th>3</th>\n",
       "      <td>2012-01-06</td>\n",
       "      <td>27.530001</td>\n",
       "      <td>28.190001</td>\n",
       "      <td>27.530001</td>\n",
       "      <td>28.110001</td>\n",
       "    </tr>\n",
       "    <tr>\n",
       "      <th>4</th>\n",
       "      <td>2012-01-09</td>\n",
       "      <td>28.049999</td>\n",
       "      <td>28.100000</td>\n",
       "      <td>27.719999</td>\n",
       "      <td>27.740000</td>\n",
       "    </tr>\n",
       "  </tbody>\n",
       "</table>\n",
       "</div>"
      ],
      "text/plain": [
       "         Date       Open       High        Low      Close\n",
       "0  2012-01-03  26.549999  26.959999  26.389999  26.770000\n",
       "1  2012-01-04  26.820000  27.469999  26.780001  27.400000\n",
       "2  2012-01-05  27.379999  27.730000  27.290001  27.680000\n",
       "3  2012-01-06  27.530001  28.190001  27.530001  28.110001\n",
       "4  2012-01-09  28.049999  28.100000  27.719999  27.740000"
      ]
     },
     "execution_count": 3,
     "metadata": {},
     "output_type": "execute_result"
    }
   ],
   "source": [
    "df = pd.read_csv(DATA)\n",
    "df = df.drop(['Adj Close', 'Volume'], axis=1)\n",
    "print(df.shape)\n",
    "df.head()"
   ]
  },
  {
   "cell_type": "code",
   "execution_count": 4,
   "metadata": {},
   "outputs": [
    {
     "data": {
      "image/png": "[encoded data removed]",
      "text/plain": [
       "<matplotlib.figure.Figure at 0x12c61af98>"
      ]
     },
     "metadata": {},
     "output_type": "display_data"
    }
   ],
   "source": [
    "mean_price = df.mean(axis = 1)\n",
    "plot_series(mean_price, xlabel='Days', ylabel='Mean value of Microsoft Stock', color='b', legend='Mean price')"
   ]
  },
  {
   "cell_type": "code",
   "execution_count": 5,
   "metadata": {},
   "outputs": [],
   "source": [
    "scaler = MinMaxScaler(feature_range=(0, 1)) #other typical scale values are -1,1\n",
    "mean_price = scaler.fit_transform(np.reshape(mean_price.values, (len(mean_price),1)))"
   ]
  },
  {
   "cell_type": "code",
   "execution_count": 6,
   "metadata": {},
   "outputs": [
    {
     "name": "stdout",
     "output_type": "stream",
     "text": [
      "(1056, 1)\n",
      "(453, 1)\n"
     ]
    }
   ],
   "source": [
    "train, test = train_test_split(mean_price, test_size=TEST_SIZE, shuffle=False)\n",
    "print(train.shape)\n",
    "print(test.shape)"
   ]
  },
  {
   "cell_type": "code",
   "execution_count": 7,
   "metadata": {},
   "outputs": [
    {
     "name": "stdout",
     "output_type": "stream",
     "text": [
      "(1054, 1, 1) (1054,)\n",
      "(451, 1, 1) (451,)\n"
     ]
    }
   ],
   "source": [
    "X_train, y_train = to_1dimension(train, TIME_AHEAD)\n",
    "X_test, y_test = to_1dimension(test, TIME_AHEAD)\n",
    "print(X_train.shape, y_train.shape)\n",
    "print(X_test.shape, y_test.shape)"
   ]
  },
  {
   "cell_type": "markdown",
   "metadata": {},
   "source": [
    "### LSTM"
   ]
  },
  {
   "cell_type": "code",
   "execution_count": 8,
   "metadata": {},
   "outputs": [],
   "source": [
    "def create_symbol(X, model_name='LSTM', units=10, activation='linear', time_ahead=1):\n",
    "    if model_name == 'LSTM':\n",
    "        cell = tf.contrib.rnn.LSTMCell(units)\n",
    "        outputs, states = tf.nn.dynamic_rnn(cell, X, dtype=tf.float32)\n",
    "    elif model_name == 'BiLSTM':\n",
    "        lstm_fw_cell = rnn.BasicLSTMCell(units, forget_bias=1.0)\n",
    "        lstm_bw_cell = rnn.BasicLSTMCell(units, forget_bias=1.0)\n",
    "        outputs, _, _ = tf.contrib.rnn.static_bidirectional_rnn(lstm_fw_cell, lstm_bw_cell, X,\n",
    "                                              dtype=tf.float32)\n",
    "    elif model_name == 'GRU':\n",
    "        cell = tf.contrib.rnn.GRUCell(units)\n",
    "        outputs, states = tf.nn.dynamic_rnn(cell, X, dtype=tf.float32)\n",
    "    else:\n",
    "        raise ValueError(\"Wrong model name\")\n",
    "    sym = tf.layers.dense(outputs[-1], 1, activation=None, name='output')#activation=None (linear activation)\n",
    "    return sym"
   ]
  },
  {
   "cell_type": "code",
   "execution_count": 9,
   "metadata": {},
   "outputs": [],
   "source": [
    "# Place-holders\n",
    "X = tf.placeholder(tf.float32, shape=[None, 1, TIME_AHEAD])\n",
    "y = tf.placeholder(tf.float32, shape=[None])\n",
    "\n",
    "sym = create_symbol(X, model_name='LSTM', units=UNITS, time_ahead=TIME_AHEAD)\n",
    "\n",
    "loss = tf.reduce_mean(tf.squared_difference(sym, y)) #mse\n",
    "optimizer = tf.train.AdamOptimizer()\n",
    "model = optimizer.minimize(loss)\n",
    "\n",
    "init = tf.global_variables_initializer()\n",
    "sess = tf.Session()\n",
    "sess.run(init)"
   ]
  },
  {
   "cell_type": "code",
   "execution_count": 10,
   "metadata": {},
   "outputs": [
    {
     "name": "stdout",
     "output_type": "stream",
     "text": [
      "Epoch 1/5  Current loss: 7.991367601789534e-05\n",
      "Epoch 2/5  Current loss: 4.7972367610782385e-05\n",
      "Epoch 3/5  Current loss: 2.9974151402711868e-05\n",
      "Epoch 4/5  Current loss: 1.1699426067934837e-05\n",
      "Epoch 5/5  Current loss: 2.9472744245140348e-06\n"
     ]
    }
   ],
   "source": [
    "for i in range(EPOCHS):\n",
    "    ii = 0\n",
    "    while(ii + BATCH_SIZE) <= len(X_train):\n",
    "        X_batch = X_train[ii:ii+BATCH_SIZE,:,:]\n",
    "        y_batch = y_train[ii:ii+BATCH_SIZE]\n",
    "        sess.run(model, feed_dict={X:X_batch, y:y_batch})\n",
    "        ii += BATCH_SIZE\n",
    "    loss_train = sess.run(loss, feed_dict={X: X_batch, y: y_batch})\n",
    "    print('Epoch {}/{}'.format(i+1, EPOCHS), ' Current loss: {}'.format(loss_train))"
   ]
  },
  {
   "cell_type": "code",
   "execution_count": 12,
   "metadata": {},
   "outputs": [],
   "source": [
    "y_guess = np.zeros(y_test.shape[0], dtype=np.float32)\n",
    "ii = 0\n",
    "while(ii + BATCH_SIZE) <= len(X_test):\n",
    "    X_batch = X_test[ii:ii+BATCH_SIZE,:,:]\n",
    "    output = sess.run(sym, feed_dict={X:X_batch})\n",
    "    y_guess[ii:ii+BATCH_SIZE] = output\n",
    "    ii += BATCH_SIZE"
   ]
  },
  {
   "cell_type": "code",
   "execution_count": 30,
   "metadata": {},
   "outputs": [
    {
     "name": "stdout",
     "output_type": "stream",
     "text": [
      "Test RMSE: 3.30\n"
     ]
    }
   ],
   "source": [
    "y_test_inv = scaler.inverse_transform([y_test])\n",
    "pred_test = scaler.inverse_transform([y_guess])\n",
    "score = math.sqrt(mean_squared_error(y_test_inv, pred_test))\n",
    "print('Test RMSE: %.2f' % (score))"
   ]
  },
  {
   "cell_type": "code",
   "execution_count": 31,
   "metadata": {},
   "outputs": [
    {
     "data": {
      "image/png": "[encoded data removed]",
      "text/plain": [
       "<matplotlib.figure.Figure at 0x12c8429e8>"
      ]
     },
     "metadata": {},
     "output_type": "display_data"
    }
   ],
   "source": [
    "mean_price_inv = scaler.inverse_transform(mean_price)\n",
    "train_set = mean_price_inv[:X_train.shape[0]]\n",
    "plot_series_prediction(mean_price_inv, train_set, pred_test.T, time_ahead=TIME_AHEAD,\n",
    "                       title='BiLSTM prediction', xlabel='Days', ylabel='Value of Microsoft Stock', \n",
    "                       color=['g','r','b'], legend=['True value','Training set','Test prediction'])"
   ]
  },
  {
   "cell_type": "code",
   "execution_count": null,
   "metadata": {},
   "outputs": [],
   "source": []
  }
 ],
 "metadata": {
  "kernelspec": {
   "display_name": "Python 3",
   "language": "python",
   "name": "python3"
  },
  "language_info": {
   "codemirror_mode": {
    "name": "ipython",
    "version": 3
   },
   "file_extension": ".py",
   "mimetype": "text/x-python",
   "name": "python",
   "nbconvert_exporter": "python",
   "pygments_lexer": "ipython3",
   "version": "3.5.4"
  }
 },
 "nbformat": 4,
 "nbformat_minor": 2
}
