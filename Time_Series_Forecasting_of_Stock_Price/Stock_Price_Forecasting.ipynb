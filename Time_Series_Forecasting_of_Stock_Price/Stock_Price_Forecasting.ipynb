{
 "cells": [
  {
   "cell_type": "markdown",
   "metadata": {},
   "source": [
    "# Stock Price Forecasting with LSTMs\n",
    "\n",
    "In this tutorial we show how a simple LSTM can predict stock prices in the short term. \n",
    "\n",
    "A [Long-Short Term Memory](https://en.wikipedia.org/wiki/Long_short-term_memory) (LSTM) is a type of Recurrent Neural Network that is specially suited for time-series prediction problems. It is internally composed by two kind of units, hidden units, which as in [CNNs](https://miguelgfierro.com/blog/2016/a-gentle-introduction-to-convolutional-neural-networks/) contain a hidden representation of the inputs, and gated units, which control the amount of information that flows from the inputs, to the hidden units and to the outputs.  \n",
    "\n",
    "The gated structure of LSTMs, make them very efficient when working with large time series. They are able to understand long-term dependencies in temporal data, controlling which information should be \"remembered\" and which \"forgotted\". \n",
    "\n",
    "In the present tutorial we use [Keras](https://github.com/keras-team/keras) with Tensorflow back-end to predict the stock prices of Microsoft from 2012 to 2017. We experiment with an LSTM and two variants of the same family: Bi-directional LSTM and [GRU](https://en.wikipedia.org/wiki/Gated_recurrent_unit). "
   ]
  },
  {
   "cell_type": "code",
   "execution_count": 1,
   "metadata": {},
   "outputs": [
    {
     "name": "stderr",
     "output_type": "stream",
     "text": [
      "Using TensorFlow backend.\n",
      "/Users/miguel/anaconda3/envs/py35/lib/python3.5/importlib/_bootstrap.py:222: RuntimeWarning: compiletime version 3.6 of module 'tensorflow.python.framework.fast_tensor_util' does not match runtime version 3.5\n",
      "  return f(*args, **kwds)\n"
     ]
    },
    {
     "name": "stdout",
     "output_type": "stream",
     "text": [
      "OS:  darwin\n",
      "Python:  3.5.4 |Anaconda, Inc.| (default, Nov  8 2017, 18:11:28) \n",
      "[GCC 4.2.1 Compatible Clang 4.0.1 (tags/RELEASE_401/final)]\n",
      "Keras:  2.1.5\n",
      "Tensorflow:  1.5.0\n",
      "Numpy:  1.14.1\n",
      "Number of CPU processors:  8\n"
     ]
    }
   ],
   "source": [
    "import os\n",
    "import sys\n",
    "import pandas as pd\n",
    "import numpy as np \n",
    "import math\n",
    "from sklearn.preprocessing import MinMaxScaler\n",
    "from sklearn.metrics import mean_squared_error\n",
    "from sklearn.model_selection import train_test_split\n",
    "import keras\n",
    "from keras.models import Sequential\n",
    "from keras.layers import Dense, Activation, Bidirectional, LSTM, GRU\n",
    "import tensorflow as tf\n",
    "from utils import (get_number_processors, plot_series, to_1dimension, plot_series_prediction)\n",
    "\n",
    "print(\"OS: \", sys.platform)\n",
    "print(\"Python: \", sys.version)\n",
    "print(\"Keras: \", keras.__version__)\n",
    "print(\"Tensorflow: \", tf.__version__)\n",
    "print(\"Numpy: \", np.__version__)\n",
    "print(\"Number of CPU processors: \", get_number_processors())\n",
    "\n",
    "%load_ext autoreload\n",
    "%autoreload 2"
   ]
  },
  {
   "cell_type": "markdown",
   "metadata": {},
   "source": [
    "### Data\n",
    "\n",
    "The data we are going to use is Microsoft stock prices from 2012 to 2017. The data can be accessed directly in [Yahoo finance](https://finance.yahoo.com/quote/MSFT/history?p=MSFT)."
   ]
  },
  {
   "cell_type": "code",
   "execution_count": 2,
   "metadata": {},
   "outputs": [],
   "source": [
    "DATA = os.path.join('data', 'MSFT_2012_2017.csv')\n",
    "EPOCHS = 5\n",
    "TEST_SIZE = 0.3\n",
    "TIME_AHEAD = 1 #prediction step\n",
    "BATCH_SIZE = 1\n",
    "UNITS = 25"
   ]
  },
  {
   "cell_type": "code",
   "execution_count": 3,
   "metadata": {},
   "outputs": [
    {
     "name": "stdout",
     "output_type": "stream",
     "text": [
      "(1509, 5)\n"
     ]
    },
    {
     "data": {
      "text/html": [
       "<div>\n",
       "<style scoped>\n",
       "    .dataframe tbody tr th:only-of-type {\n",
       "        vertical-align: middle;\n",
       "    }\n",
       "\n",
       "    .dataframe tbody tr th {\n",
       "        vertical-align: top;\n",
       "    }\n",
       "\n",
       "    .dataframe thead th {\n",
       "        text-align: right;\n",
       "    }\n",
       "</style>\n",
       "<table border=\"1\" class=\"dataframe\">\n",
       "  <thead>\n",
       "    <tr style=\"text-align: right;\">\n",
       "      <th></th>\n",
       "      <th>Date</th>\n",
       "      <th>Open</th>\n",
       "      <th>High</th>\n",
       "      <th>Low</th>\n",
       "      <th>Close</th>\n",
       "    </tr>\n",
       "  </thead>\n",
       "  <tbody>\n",
       "    <tr>\n",
       "      <th>0</th>\n",
       "      <td>2012-01-03</td>\n",
       "      <td>26.549999</td>\n",
       "      <td>26.959999</td>\n",
       "      <td>26.389999</td>\n",
       "      <td>26.770000</td>\n",
       "    </tr>\n",
       "    <tr>\n",
       "      <th>1</th>\n",
       "      <td>2012-01-04</td>\n",
       "      <td>26.820000</td>\n",
       "      <td>27.469999</td>\n",
       "      <td>26.780001</td>\n",
       "      <td>27.400000</td>\n",
       "    </tr>\n",
       "    <tr>\n",
       "      <th>2</th>\n",
       "      <td>2012-01-05</td>\n",
       "      <td>27.379999</td>\n",
       "      <td>27.730000</td>\n",
       "      <td>27.290001</td>\n",
       "      <td>27.680000</td>\n",
       "    </tr>\n",
       "    <tr>\n",
       "      <th>3</th>\n",
       "      <td>2012-01-06</td>\n",
       "      <td>27.530001</td>\n",
       "      <td>28.190001</td>\n",
       "      <td>27.530001</td>\n",
       "      <td>28.110001</td>\n",
       "    </tr>\n",
       "    <tr>\n",
       "      <th>4</th>\n",
       "      <td>2012-01-09</td>\n",
       "      <td>28.049999</td>\n",
       "      <td>28.100000</td>\n",
       "      <td>27.719999</td>\n",
       "      <td>27.740000</td>\n",
       "    </tr>\n",
       "  </tbody>\n",
       "</table>\n",
       "</div>"
      ],
      "text/plain": [
       "         Date       Open       High        Low      Close\n",
       "0  2012-01-03  26.549999  26.959999  26.389999  26.770000\n",
       "1  2012-01-04  26.820000  27.469999  26.780001  27.400000\n",
       "2  2012-01-05  27.379999  27.730000  27.290001  27.680000\n",
       "3  2012-01-06  27.530001  28.190001  27.530001  28.110001\n",
       "4  2012-01-09  28.049999  28.100000  27.719999  27.740000"
      ]
     },
     "execution_count": 3,
     "metadata": {},
     "output_type": "execute_result"
    }
   ],
   "source": [
    "df = pd.read_csv(DATA)\n",
    "df = df.drop(['Adj Close', 'Volume'], axis=1)\n",
    "print(df.shape)\n",
    "df.head()"
   ]
  },
  {
   "cell_type": "markdown",
   "metadata": {},
   "source": [
    "To simplify the problem, we are going to take as input the average of the Open, High, Low and Close values."
   ]
  },
  {
   "cell_type": "code",
   "execution_count": 4,
   "metadata": {},
   "outputs": [
    {
     "data": {
      "image/png": "[encoded data removed]",
      "text/plain": [
       "<matplotlib.figure.Figure at 0x12077f1d0>"
      ]
     },
     "metadata": {},
     "output_type": "display_data"
    }
   ],
   "source": [
    "mean_price = df.mean(axis = 1)\n",
    "plot_series(mean_price, xlabel='Days', ylabel='Mean value of Microsoft Stock', color='b', legend='Mean price')"
   ]
  },
  {
   "cell_type": "markdown",
   "metadata": {},
   "source": [
    "The next step is to scale the dataset, this generally helps the prediction to be more accourate."
   ]
  },
  {
   "cell_type": "code",
   "execution_count": 5,
   "metadata": {},
   "outputs": [],
   "source": [
    "scaler = MinMaxScaler(feature_range=(0, 1)) #other typical scale values are -1,1\n",
    "mean_price = scaler.fit_transform(np.reshape(mean_price.values, (len(mean_price),1)))"
   ]
  },
  {
   "cell_type": "markdown",
   "metadata": {},
   "source": [
    "Once, the data has been scaled, we can create the train and test sets."
   ]
  },
  {
   "cell_type": "code",
   "execution_count": 6,
   "metadata": {},
   "outputs": [
    {
     "name": "stdout",
     "output_type": "stream",
     "text": [
      "(1056, 1)\n",
      "(453, 1)\n"
     ]
    }
   ],
   "source": [
    "train, test = train_test_split(mean_price, test_size=TEST_SIZE, shuffle=False)\n",
    "print(train.shape)\n",
    "print(test.shape)"
   ]
  },
  {
   "cell_type": "code",
   "execution_count": 7,
   "metadata": {},
   "outputs": [
    {
     "name": "stdout",
     "output_type": "stream",
     "text": [
      "(1054, 1, 1) (1054,)\n",
      "(451, 1, 1) (451,)\n"
     ]
    }
   ],
   "source": [
    "X_train, y_train = to_1dimension(train, TIME_AHEAD)\n",
    "X_test, y_test = to_1dimension(test, TIME_AHEAD)\n",
    "print(X_train.shape, y_train.shape)\n",
    "print(X_test.shape, y_test.shape)"
   ]
  },
  {
   "cell_type": "markdown",
   "metadata": {},
   "source": [
    "### LSTM\n",
    "\n",
    "Now we are going to test different RNN structures."
   ]
  },
  {
   "cell_type": "code",
   "execution_count": 8,
   "metadata": {},
   "outputs": [],
   "source": [
    "def create_symbol(model_name='LSTM', units=10, activation='linear', time_ahead=1):\n",
    "    model = Sequential()\n",
    "    if model_name == 'LSTM':\n",
    "        model.add(LSTM(units, input_shape=(1, time_ahead)))\n",
    "    elif model_name == 'BiLSTM':\n",
    "        model.add(Bidirectional(LSTM(units), input_shape=(1, time_ahead)))\n",
    "    elif model_name == 'GRU':\n",
    "        model.add(GRU(units, input_shape=(1, time_ahead)))\n",
    "    else:\n",
    "        raise ValueError(\"Wrong model name\")\n",
    "    model.add(Dense(1))\n",
    "    model.add(Activation('linear'))\n",
    "    return model"
   ]
  },
  {
   "cell_type": "markdown",
   "metadata": {},
   "source": [
    "Let's train the model. For optimization, we use ADAM algorithm. In time series, adaptative optimization methods tend to get better results than traditional stochastic gradient descent methods. You can play with the different [optimizers](https://keras.io/optimizers/) available in Keras."
   ]
  },
  {
   "cell_type": "code",
   "execution_count": 9,
   "metadata": {},
   "outputs": [],
   "source": [
    "model = create_symbol(model_name='LSTM', units=UNITS, time_ahead=TIME_AHEAD)\n",
    "model.compile(optimizer='adam', loss='mean_squared_error') "
   ]
  },
  {
   "cell_type": "code",
   "execution_count": 10,
   "metadata": {},
   "outputs": [
    {
     "name": "stdout",
     "output_type": "stream",
     "text": [
      "Epoch 1/5\n",
      " - 3s - loss: 0.0069\n",
      "Epoch 2/5\n",
      " - 3s - loss: 8.8962e-05\n",
      "Epoch 3/5\n",
      " - 3s - loss: 9.3206e-05\n",
      "Epoch 4/5\n",
      " - 3s - loss: 9.1205e-05\n",
      "Epoch 5/5\n",
      " - 3s - loss: 9.1679e-05\n"
     ]
    },
    {
     "data": {
      "text/plain": [
       "<keras.callbacks.History at 0x1209a6828>"
      ]
     },
     "execution_count": 10,
     "metadata": {},
     "output_type": "execute_result"
    }
   ],
   "source": [
    "model.fit(X_train, y_train, epochs=EPOCHS, batch_size=BATCH_SIZE, verbose=2)"
   ]
  },
  {
   "cell_type": "markdown",
   "metadata": {},
   "source": [
    "Once the model is trained, we can predict on the test set and obtain the RMSE value."
   ]
  },
  {
   "cell_type": "code",
   "execution_count": 11,
   "metadata": {},
   "outputs": [],
   "source": [
    "y_test_inv = scaler.inverse_transform([y_test])\n",
    "mean_price_inv = scaler.inverse_transform(mean_price)"
   ]
  },
  {
   "cell_type": "code",
   "execution_count": 12,
   "metadata": {},
   "outputs": [
    {
     "name": "stdout",
     "output_type": "stream",
     "text": [
      "Test RMSE: 0.86\n"
     ]
    }
   ],
   "source": [
    "pred_test = model.predict(X_test)\n",
    "pred_test = scaler.inverse_transform(pred_test)\n",
    "score = math.sqrt(mean_squared_error(y_test_inv[0], pred_test[:,0]))\n",
    "print('Test RMSE: %.2f' % (score))"
   ]
  },
  {
   "cell_type": "code",
   "execution_count": 13,
   "metadata": {},
   "outputs": [
    {
     "data": {
      "image/png": "[encoded data removed]",
      "text/plain": [
       "<matplotlib.figure.Figure at 0x123642160>"
      ]
     },
     "metadata": {},
     "output_type": "display_data"
    }
   ],
   "source": [
    "pred_train = model.predict(X_train)\n",
    "pred_train = scaler.inverse_transform(pred_train)\n",
    "plot_series_prediction(mean_price_inv, pred_train, pred_test, time_ahead=TIME_AHEAD,\n",
    "                       title='LSTM prediction', xlabel='Days', ylabel='Value of Microsoft Stock', \n",
    "                       color=['g','r','b'], legend=['True value','Training set','Test prediction'])"
   ]
  },
  {
   "cell_type": "markdown",
   "metadata": {},
   "source": [
    "### BiLSTM\n",
    "Now we can try with a Bi-directional LSTM (BiLSTM)."
   ]
  },
  {
   "cell_type": "code",
   "execution_count": 14,
   "metadata": {},
   "outputs": [],
   "source": [
    "model = create_symbol(model_name='BiLSTM', units=UNITS, time_ahead=TIME_AHEAD)\n",
    "model.compile(optimizer='adam', loss='mean_squared_error') "
   ]
  },
  {
   "cell_type": "code",
   "execution_count": 15,
   "metadata": {},
   "outputs": [
    {
     "name": "stdout",
     "output_type": "stream",
     "text": [
      "Epoch 1/5\n",
      " - 4s - loss: 0.0032\n",
      "Epoch 2/5\n",
      " - 4s - loss: 9.2051e-05\n",
      "Epoch 3/5\n",
      " - 4s - loss: 9.5372e-05\n",
      "Epoch 4/5\n",
      " - 4s - loss: 9.4321e-05\n",
      "Epoch 5/5\n",
      " - 4s - loss: 9.7527e-05\n"
     ]
    },
    {
     "data": {
      "text/plain": [
       "<keras.callbacks.History at 0x1236dbcf8>"
      ]
     },
     "execution_count": 15,
     "metadata": {},
     "output_type": "execute_result"
    }
   ],
   "source": [
    "model.fit(X_train, y_train, epochs=EPOCHS, batch_size=1, verbose=2)"
   ]
  },
  {
   "cell_type": "code",
   "execution_count": 16,
   "metadata": {},
   "outputs": [
    {
     "name": "stdout",
     "output_type": "stream",
     "text": [
      "Test RMSE: 0.89\n"
     ]
    }
   ],
   "source": [
    "pred_test = model.predict(X_test)\n",
    "pred_test = scaler.inverse_transform(pred_test)\n",
    "score = math.sqrt(mean_squared_error(y_test_inv[0], pred_test[:,0]))\n",
    "print('Test RMSE: %.2f' % (score))"
   ]
  },
  {
   "cell_type": "code",
   "execution_count": 17,
   "metadata": {},
   "outputs": [
    {
     "data": {
      "image/png": "[encoded data removed]",
      "text/plain": [
       "<matplotlib.figure.Figure at 0x12499f4e0>"
      ]
     },
     "metadata": {},
     "output_type": "display_data"
    }
   ],
   "source": [
    "pred_train = model.predict(X_train)\n",
    "pred_train = scaler.inverse_transform(pred_train)\n",
    "plot_series_prediction(mean_price_inv, pred_train, pred_test, time_ahead=TIME_AHEAD,\n",
    "                       title='BiLSTM prediction', xlabel='Days', ylabel='Value of Microsoft Stock', \n",
    "                       color=['g','r','b'], legend=['True value','Training set','Test prediction'])"
   ]
  },
  {
   "cell_type": "markdown",
   "metadata": {},
   "source": [
    "### GRU\n",
    "Finally, we are going to try with a [Gated Recurrent Unit](https://en.wikipedia.org/wiki/Gated_recurrent_unit) (GRU), which is a simplified version of LSTM."
   ]
  },
  {
   "cell_type": "code",
   "execution_count": 18,
   "metadata": {},
   "outputs": [],
   "source": [
    "model = create_symbol(model_name='BiLSTM', units=UNITS, time_ahead=TIME_AHEAD)\n",
    "model.compile(optimizer='adam', loss='mean_squared_error') "
   ]
  },
  {
   "cell_type": "code",
   "execution_count": 19,
   "metadata": {},
   "outputs": [
    {
     "name": "stdout",
     "output_type": "stream",
     "text": [
      "Epoch 1/5\n",
      " - 4s - loss: 0.0046\n",
      "Epoch 2/5\n",
      " - 4s - loss: 8.5769e-05\n",
      "Epoch 3/5\n",
      " - 4s - loss: 9.4898e-05\n",
      "Epoch 4/5\n",
      " - 4s - loss: 9.4208e-05\n",
      "Epoch 5/5\n",
      " - 4s - loss: 9.8470e-05\n"
     ]
    },
    {
     "data": {
      "text/plain": [
       "<keras.callbacks.History at 0x1249824a8>"
      ]
     },
     "execution_count": 19,
     "metadata": {},
     "output_type": "execute_result"
    }
   ],
   "source": [
    "model.fit(X_train, y_train, epochs=EPOCHS, batch_size=1, verbose=2)"
   ]
  },
  {
   "cell_type": "code",
   "execution_count": 20,
   "metadata": {},
   "outputs": [
    {
     "name": "stdout",
     "output_type": "stream",
     "text": [
      "Test RMSE: 0.99\n"
     ]
    }
   ],
   "source": [
    "pred_test = model.predict(X_test)\n",
    "pred_test = scaler.inverse_transform(pred_test)\n",
    "score = math.sqrt(mean_squared_error(y_test_inv[0], pred_test[:,0]))\n",
    "print('Test RMSE: %.2f' % (score))"
   ]
  },
  {
   "cell_type": "code",
   "execution_count": 21,
   "metadata": {},
   "outputs": [
    {
     "data": {
      "image/png": "[encoded data removed]",
      "text/plain": [
       "<matplotlib.figure.Figure at 0x125d8f7f0>"
      ]
     },
     "metadata": {},
     "output_type": "display_data"
    }
   ],
   "source": [
    "pred_train = model.predict(X_train)\n",
    "pred_train = scaler.inverse_transform(pred_train)\n",
    "plot_series_prediction(mean_price_inv, pred_train, pred_test, time_ahead=TIME_AHEAD,\n",
    "                       title='GRU prediction', xlabel='Days', ylabel='Value of Microsoft Stock', \n",
    "                       color=['g','r','b'], legend=['True value','Training set','Test prediction'])"
   ]
  },
  {
   "cell_type": "markdown",
   "metadata": {},
   "source": [
    "### Conclusion\n",
    "In this tutorial we have seen how a LSTM (or other variants) can be used to predict the stock price given a temporal series of values. "
   ]
  }
 ],
 "metadata": {
  "kernelspec": {
   "display_name": "Python 3",
   "language": "python",
   "name": "python3"
  },
  "language_info": {
   "codemirror_mode": {
    "name": "ipython",
    "version": 3
   },
   "file_extension": ".py",
   "mimetype": "text/x-python",
   "name": "python",
   "nbconvert_exporter": "python",
   "pygments_lexer": "ipython3",
   "version": "3.5.4"
  }
 },
 "nbformat": 4,
 "nbformat_minor": 2
}
