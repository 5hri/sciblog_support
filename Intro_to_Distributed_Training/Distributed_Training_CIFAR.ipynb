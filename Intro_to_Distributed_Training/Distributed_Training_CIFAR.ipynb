{
 "cells": [
  {
   "cell_type": "markdown",
   "metadata": {},
   "source": [
    "# Introduction to Distributed Training with PyTorch and CIFAR dataset\n"
   ]
  },
  {
   "cell_type": "code",
   "execution_count": 1,
   "metadata": {},
   "outputs": [],
   "source": [
    "import sys\n",
    "import os\n",
    "import numpy as np\n",
    "import pandas as pd\n",
    "import torch\n",
    "from utils import get_gpu_name, get_gpu_memory, get_cuda_version, get_cudnn_version\n",
    "\n",
    "%load_ext autoreload\n",
    "%autoreload 2"
   ]
  },
  {
   "cell_type": "code",
   "execution_count": 2,
   "metadata": {},
   "outputs": [
    {
     "name": "stdout",
     "output_type": "stream",
     "text": [
      "OS:  linux\n",
      "Python:  3.5.4 |Anaconda custom (64-bit)| (default, Nov 20 2017, 18:44:38) \n",
      "[GCC 7.2.0]\n",
      "PyTorch:  0.4.0\n",
      "Numpy:  1.14.1\n",
      "GPU:  ['Tesla K80', 'Tesla K80']\n",
      "GPU memory:  ['11441 MiB', '11441 MiB']\n",
      "CUDA:  CUDA Version 9.0.176\n",
      "CuDNN:  7.0.5\n"
     ]
    }
   ],
   "source": [
    "print(\"OS: \", sys.platform)\n",
    "print(\"Python: \", sys.version)\n",
    "print(\"PyTorch: \", torch.__version__)\n",
    "print(\"Numpy: \", np.__version__)\n",
    "print(\"GPU: \", get_gpu_name())\n",
    "print(\"GPU memory: \", get_gpu_memory())\n",
    "print(\"CUDA: \", get_cuda_version())\n",
    "print(\"CuDNN: \", get_cudnn_version())"
   ]
  },
  {
   "cell_type": "code",
   "execution_count": 8,
   "metadata": {},
   "outputs": [
    {
     "name": "stderr",
     "output_type": "stream",
     "text": [
      "2018-06-07 09:39:57,636 INFO [train_cifar.py:166]: Arguments: {'momentum': 0.9, 'wd': 0.0001, 'num_layers': '18', 'distributed': False, 'network': 'resnet', 'gpu_ids': '0,1', 'epochs': 5, 'batch_size': 512, 'lr': 0.1}\n"
     ]
    },
    {
     "name": "stdout",
     "output_type": "stream",
     "text": [
      "Files already downloaded and verified\n",
      "Files already downloaded and verified\n"
     ]
    },
    {
     "name": "stderr",
     "output_type": "stream",
     "text": [
      "2018-06-07 09:40:00,877 INFO [train_cifar.py:120]: Using GPUs: [0, 1]\n",
      "2018-06-07 09:40:00,896 INFO [train_cifar.py:133]: Training epoch 0...\n",
      "2018-06-07 09:41:20,419 INFO [train_cifar.py:180]: Training time 0:01:19.522624\n",
      "2018-06-07 09:41:34,417 INFO [train_cifar.py:161]: Epoch 0 - validation accuracy: 47.69%\n",
      "2018-06-07 09:41:34,421 INFO [train_cifar.py:184]: Validation time 0:00:13.999867\n",
      "2018-06-07 09:41:34,422 INFO [train_cifar.py:133]: Training epoch 1...\n",
      "2018-06-07 09:42:58,341 INFO [train_cifar.py:180]: Training time 0:01:23.919155\n",
      "2018-06-07 09:43:03,311 INFO [train_cifar.py:161]: Epoch 1 - validation accuracy: 59.11%\n",
      "2018-06-07 09:43:03,318 INFO [train_cifar.py:184]: Validation time 0:00:04.974791\n",
      "2018-06-07 09:43:03,322 INFO [train_cifar.py:133]: Training epoch 2...\n",
      "2018-06-07 09:44:18,428 INFO [train_cifar.py:180]: Training time 0:01:15.105389\n",
      "2018-06-07 09:44:24,614 INFO [train_cifar.py:161]: Epoch 2 - validation accuracy: 57.44%\n",
      "2018-06-07 09:44:24,617 INFO [train_cifar.py:184]: Validation time 0:00:06.186339\n",
      "2018-06-07 09:44:24,618 INFO [train_cifar.py:133]: Training epoch 3...\n",
      "2018-06-07 09:45:39,106 INFO [train_cifar.py:180]: Training time 0:01:14.488303\n",
      "2018-06-07 09:45:43,927 INFO [train_cifar.py:161]: Epoch 3 - validation accuracy: 68.44%\n",
      "2018-06-07 09:45:43,931 INFO [train_cifar.py:184]: Validation time 0:00:04.822170\n",
      "2018-06-07 09:45:43,932 INFO [train_cifar.py:133]: Training epoch 4...\n",
      "2018-06-07 09:46:59,568 INFO [train_cifar.py:180]: Training time 0:01:15.635030\n",
      "2018-06-07 09:47:04,412 INFO [train_cifar.py:161]: Epoch 4 - validation accuracy: 76.60%\n",
      "2018-06-07 09:47:04,415 INFO [train_cifar.py:184]: Validation time 0:00:04.846277\n"
     ]
    }
   ],
   "source": [
    "%run ./train_cifar.py --network resnet --num_layers 18 --epochs 5 --batch_size 512 --gpu_ids 0,1"
   ]
  },
  {
   "cell_type": "code",
   "execution_count": null,
   "metadata": {},
   "outputs": [],
   "source": []
  }
 ],
 "metadata": {
  "kernelspec": {
   "display_name": "Python 3",
   "language": "python",
   "name": "python3"
  },
  "language_info": {
   "codemirror_mode": {
    "name": "ipython",
    "version": 3
   },
   "file_extension": ".py",
   "mimetype": "text/x-python",
   "name": "python",
   "nbconvert_exporter": "python",
   "pygments_lexer": "ipython3",
   "version": "3.5.4"
  }
 },
 "nbformat": 4,
 "nbformat_minor": 2
}
